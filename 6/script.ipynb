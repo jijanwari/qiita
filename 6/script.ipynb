{
 "cells": [
  {
   "cell_type": "code",
   "execution_count": 1,
   "metadata": {},
   "outputs": [
    {
     "name": "stderr",
     "output_type": "stream",
     "text": [
      "Using TensorFlow backend.\n"
     ]
    }
   ],
   "source": [
    "# python 3.6.4\n",
    "\n",
    "import warnings\n",
    "warnings.filterwarnings('ignore')\n",
    "#import timeit\n",
    "import json\n",
    "import os\n",
    "import numpy\n",
    "\n",
    "from my_callback import MyCallback"
   ]
  },
  {
   "cell_type": "code",
   "execution_count": 2,
   "metadata": {},
   "outputs": [],
   "source": [
    "import gym.spaces\n",
    "import numpy\n",
    "import pandas\n",
    "import math\n",
    "\n",
    "\n",
    "class Game(gym.core.Env):\n",
    "    metadata = {'render.modes': ['human', 'rgb_array']}\n",
    "    def __init__(self, data, columns):\n",
    "        self.data = data\n",
    "        self.columns = columns\n",
    "        self.code_dict = {\"1\": \"1\"} # code_id: code\n",
    "        self.action_space = gym.spaces.Discrete(1+2*len(self.code_dict)) # stay + {long|short}*n_code\n",
    "        low_bound = numpy.array([0]*len(columns))\n",
    "        high_bound = numpy.array([9999]*len(columns))\n",
    "        self.observation_space = gym.spaces.Box(\n",
    "            low=low_bound, high=high_bound)\n",
    "        self.time = 0\n",
    "        self.profit = 0\n",
    "        \n",
    "    def set_data(self, df):\n",
    "        self.data = df\n",
    "\n",
    "    def step(self, action):\n",
    "        time = self.time\n",
    "        profit, reward = self.calc_profit(action, time)\n",
    "        self.time += 1\n",
    "        self.profit += profit\n",
    "        done = self.time == (len(self.data) - 1)\n",
    "        info = {}\n",
    "        observation = self.observation(time+1)\n",
    "        return observation, reward, done, info\n",
    "\n",
    "    def observation(self, time):\n",
    "        return numpy.array([self.data[col][time] for col in self.columns])\n",
    "\n",
    "    def calc_profit(self, action, time):\n",
    "        # Returns: profit, reward\n",
    "        if action == 0:\n",
    "            return 0, 0\n",
    "        elif action % 2 == 1:\n",
    "            position = 1 # long\n",
    "        elif action % 2 == 0:\n",
    "            position = -1 # short\n",
    "            \n",
    "        code_id = int((action + 1) / 2)\n",
    "        code = self.code_dict[str(code_id)]\n",
    "        \n",
    "        open_2tomorrow = self.data[\"{}_open_2tomorrow\".format(code)][time]\n",
    "        open_1tomorrow = self.data[\"{}_open_tomorrow\".format(code)][time]\n",
    "        \n",
    "        profit = position * (open_2tomorrow - open_1tomorrow) / open_1tomorrow\n",
    "        if profit < 0:\n",
    "            return profit, profit * 1.3255 # 損益にペナルティ\n",
    "        return profit, profit\n",
    "\n",
    "    def reset(self):\n",
    "        self.time = 0\n",
    "        self.profit = 0\n",
    "        return self.observation(0)\n",
    "\n",
    "    def render(self, mode):\n",
    "        pass\n",
    "\n",
    "    def close(self):\n",
    "        pass\n",
    "\n",
    "    def seed(self):\n",
    "        pass"
   ]
  },
  {
   "cell_type": "code",
   "execution_count": 3,
   "metadata": {},
   "outputs": [],
   "source": [
    "from keras.models import Sequential, Model\n",
    "from keras.layers import (\n",
    "    Dense,\n",
    "    Activation,\n",
    "    Flatten,\n",
    "    Input,\n",
    "    concatenate,\n",
    "    Dropout,\n",
    "    Embedding,\n",
    "    Reshape,\n",
    "    BatchNormalization\n",
    ")\n",
    "\n",
    "class Network(object):\n",
    "    def __init__(self):\n",
    "        self.model = None\n",
    "\n",
    "    def sample_model(self, observation_space):\n",
    "        model = Sequential()\n",
    "        model.add(Flatten(input_shape=(1,) + observation_space.shape))\n",
    "        model.add(Dense(32))\n",
    "        model.add(Activation('relu'))\n",
    "        model.add(BatchNormalization())\n",
    "        model.add(Dense(32))\n",
    "        model.add(Activation('relu'))\n",
    "        model.add(BatchNormalization())\n",
    "        model.add(Dense(env.action_space.n))\n",
    "        model.add(Activation('linear'))        \n",
    "        self.model = model\n",
    "        return model        \n",
    "    \n",
    "    def from_json(self, file_path):\n",
    "        pass\n",
    "    \n",
    "    def to_json(self, output_path):\n",
    "        pass\n"
   ]
  },
  {
   "cell_type": "code",
   "execution_count": 4,
   "metadata": {},
   "outputs": [],
   "source": [
    "from rl.agents.dqn import DQNAgent\n",
    "from rl.policy import EpsGreedyQPolicy\n",
    "from rl.memory import SequentialMemory\n",
    "from keras.optimizers import Adam\n",
    "\n",
    "def agent(model, n_action):\n",
    "    memory = SequentialMemory(limit=50000, window_length=1)\n",
    "    policy = EpsGreedyQPolicy(eps=0.1)\n",
    "    dqn_agent = DQNAgent(model=model, nb_actions=n_action,\n",
    "                         memory=memory, nb_steps_warmup=100,\n",
    "                         target_model_update=1e-2, policy=policy)\n",
    "    dqn_agent.compile(Adam(lr=1e-3), metrics=['mae'])\n",
    "    return dqn_agent"
   ]
  },
  {
   "cell_type": "code",
   "execution_count": 5,
   "metadata": {},
   "outputs": [],
   "source": [
    "import pandas\n",
    "import numpy\n",
    "\n",
    "df = pandas.read_csv(\"data/train_data.csv\")\n",
    "n = int(len(df) * 0.8)\n",
    "train, test = df[0:n], df[n:].reset_index(drop=True)"
   ]
  },
  {
   "cell_type": "code",
   "execution_count": 6,
   "metadata": {},
   "outputs": [
    {
     "data": {
      "text/plain": [
       "Index(['date', 'feature_1', '1_open_tomorrow', '1_open_2tomorrow'], dtype='object')"
      ]
     },
     "execution_count": 6,
     "metadata": {},
     "output_type": "execute_result"
    }
   ],
   "source": [
    "df.columns"
   ]
  },
  {
   "cell_type": "code",
   "execution_count": 7,
   "metadata": {},
   "outputs": [
    {
     "name": "stdout",
     "output_type": "stream",
     "text": [
      "\u001b[33mWARN: gym.spaces.Box autodetected dtype as <class 'numpy.float32'>. Please provide explicit dtype.\u001b[0m\n"
     ]
    }
   ],
   "source": [
    "columns = list(df.columns[1:-2]) # [\"r\"] dateと1_open_tomorrow, 1_open_2_tomorrowを除く\n",
    "env = Game(train, columns)\n",
    "network = Network()\n",
    "model = network.sample_model(env.observation_space)\n",
    "agent_v6 = agent(model, env.action_space.n)"
   ]
  },
  {
   "cell_type": "code",
   "execution_count": 8,
   "metadata": {
    "scrolled": true
   },
   "outputs": [
    {
     "name": "stdout",
     "output_type": "stream",
     "text": [
      "Training for 10000 steps ...\n",
      "Training for 10000 steps ...\n",
      " 2211/10000: episode: 1, duration: 7.274s, episode steps: 2211, steps per second: 304, episode reward: -4.018, mean reward: -0.002 [-0.155, 0.098], mean action: 1.822 [0.000, 2.000], loss: 3150.662079, mean_absolute_error: 93.531051, mean_q: 128.961893\n",
      "The reward is higher than the best one, saving checkpoint weights\n",
      " 2211/10000: episode: 1, duration: 7.334s, episode steps: 2211, steps per second: 301, episode reward: -4.018, mean reward: -0.002 [-0.155, 0.098], mean action: 1.822 [0.000, 2.000], mean observation: 1.000 [1.000, 1.000], loss: 3150.662079, mean_absolute_error: 93.531051, mean_q: 128.961893\n",
      " 4422/10000: episode: 2, duration: 6.550s, episode steps: 2211, steps per second: 338, episode reward: -3.522, mean reward: -0.002 [-0.155, 0.098], mean action: 1.887 [0.000, 2.000], loss: 40795.042969, mean_absolute_error: 516.701477, mean_q: 771.850891\n",
      "The reward is higher than the best one, saving checkpoint weights\n",
      " 4422/10000: episode: 2, duration: 6.564s, episode steps: 2211, steps per second: 337, episode reward: -3.522, mean reward: -0.002 [-0.155, 0.098], mean action: 1.887 [0.000, 2.000], mean observation: 1.000 [1.000, 1.000], loss: 40795.042969, mean_absolute_error: 516.701477, mean_q: 771.850891\n",
      " 6633/10000: episode: 3, duration: 6.615s, episode steps: 2211, steps per second: 334, episode reward: -3.795, mean reward: -0.002 [-0.155, 0.098], mean action: 1.894 [0.000, 2.000], loss: 20019.917969, mean_absolute_error: 1009.106750, mean_q: 1632.310669\n",
      "The reward is lower than the best one, checkpoint weights not updated\n",
      " 6633/10000: episode: 3, duration: 6.617s, episode steps: 2211, steps per second: 334, episode reward: -3.795, mean reward: -0.002 [-0.155, 0.098], mean action: 1.894 [0.000, 2.000], mean observation: 1.000 [1.000, 1.000], loss: 20019.917969, mean_absolute_error: 1009.106750, mean_q: 1632.310669\n",
      " 8844/10000: episode: 4, duration: 6.645s, episode steps: 2211, steps per second: 333, episode reward: -4.099, mean reward: -0.002 [-0.155, 0.098], mean action: 1.824 [0.000, 2.000], loss: 663.340271, mean_absolute_error: 1086.339722, mean_q: 1674.963623\n",
      "The reward is lower than the best one, checkpoint weights not updated\n",
      " 8844/10000: episode: 4, duration: 6.647s, episode steps: 2211, steps per second: 333, episode reward: -4.099, mean reward: -0.002 [-0.155, 0.098], mean action: 1.824 [0.000, 2.000], mean observation: 1.000 [1.000, 1.000], loss: 663.340271, mean_absolute_error: 1086.339722, mean_q: 1674.963623\n",
      "done, took 30.628 seconds\n",
      "done, took 30.628 seconds\n"
     ]
    },
    {
     "data": {
      "text/plain": [
       "<keras.callbacks.History at 0x1e1657bf748>"
      ]
     },
     "execution_count": 8,
     "metadata": {},
     "output_type": "execute_result"
    }
   ],
   "source": [
    "callback= MyCallback(\"tmp\")\n",
    "agent_v6.fit(env, nb_steps=10000, visualize=False,\n",
    "                  verbose=2, callbacks=[callback])"
   ]
  },
  {
   "cell_type": "code",
   "execution_count": 9,
   "metadata": {},
   "outputs": [],
   "source": [
    "agent_v6.load_weights(\"tmp/best_weight.hdf5\")"
   ]
  },
  {
   "cell_type": "code",
   "execution_count": 10,
   "metadata": {},
   "outputs": [],
   "source": [
    "def _generate_profit(env, test, agent_v6):\n",
    "    env.set_data(test)\n",
    "    for i, row in env.data.iterrows():\n",
    "        obs = env.observation(i)\n",
    "        action = agent_v6.forward(obs)\n",
    "        profit, reward = env.calc_profit(action, i)\n",
    "        yield profit"
   ]
  },
  {
   "cell_type": "code",
   "execution_count": 11,
   "metadata": {},
   "outputs": [],
   "source": [
    "test[\"profit\"] = pandas.Series(list(_generate_profit(env, test, agent_v6)))"
   ]
  },
  {
   "cell_type": "code",
   "execution_count": 12,
   "metadata": {},
   "outputs": [],
   "source": [
    "test[\"sum_profit\"] = numpy.cumsum(test[\"profit\"])"
   ]
  },
  {
   "cell_type": "code",
   "execution_count": 15,
   "metadata": {
    "scrolled": true
   },
   "outputs": [
    {
     "data": {
      "image/png": "[encoded data removed]",
      "text/plain": [
       "<matplotlib.figure.Figure at 0x1e1692b3898>"
      ]
     },
     "metadata": {},
     "output_type": "display_data"
    }
   ],
   "source": [
    "import matplotlib.pyplot as plt\n",
    "import matplotlib\n",
    "\n",
    "fig, ax1 = plt.subplots()\n",
    "ax2 = ax1.twinx()\n",
    "x = pandas.to_datetime(test[\"date\"])\n",
    "ax1.plot(x, test[\"1_open_tomorrow\"], c=\"b\")\n",
    "ax2.plot(x, test[\"sum_profit\"], c=\"r\")\n",
    "ax1.xaxis.set_major_formatter(matplotlib.dates.DateFormatter(\"%Y/%m\"))\n",
    "ax2.xaxis.set_major_formatter(matplotlib.dates.DateFormatter(\"%Y/%m\"))\n",
    "ax1.xaxis.set_major_locator(matplotlib.ticker.MaxNLocator(8))\n",
    "ax2.xaxis.set_major_locator(matplotlib.ticker.MaxNLocator(8))\n",
    "plt.show()"
   ]
  },
  {
   "cell_type": "code",
   "execution_count": 14,
   "metadata": {},
   "outputs": [],
   "source": [
    "plt.show()"
   ]
  },
  {
   "cell_type": "code",
   "execution_count": null,
   "metadata": {},
   "outputs": [],
   "source": [
    "import to_gmail"
   ]
  },
  {
   "cell_type": "code",
   "execution_count": null,
   "metadata": {},
   "outputs": [],
   "source": [
    "message = \"test\"\n",
    "to_gmail.send(message)"
   ]
  },
  {
   "cell_type": "code",
   "execution_count": null,
   "metadata": {},
   "outputs": [],
   "source": []
  }
 ],
 "metadata": {
  "kernelspec": {
   "display_name": "Python 3",
   "language": "python",
   "name": "python3"
  },
  "language_info": {
   "codemirror_mode": {
    "name": "ipython",
    "version": 3
   },
   "file_extension": ".py",
   "mimetype": "text/x-python",
   "name": "python",
   "nbconvert_exporter": "python",
   "pygments_lexer": "ipython3",
   "version": "3.6.4"
  }
 },
 "nbformat": 4,
 "nbformat_minor": 2
}
