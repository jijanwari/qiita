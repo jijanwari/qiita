{
 "cells": [
  {
   "cell_type": "code",
   "execution_count": 1,
   "metadata": {},
   "outputs": [],
   "source": [
    "import autokeras\n",
    "import pandas\n",
    "import numpy\n",
    "import os\n",
    "from PIL import Image"
   ]
  },
  {
   "cell_type": "code",
   "execution_count": 2,
   "metadata": {},
   "outputs": [],
   "source": [
    "def load_dataset(dirname, label):\n",
    "    X = []\n",
    "    Y = []\n",
    "    filenames = os.listdir(dirname)\n",
    "    for filename in filenames:\n",
    "        img = Image.open(\"{}/{}\".format(dirname, filename))\n",
    "        arr = numpy.array(img)\n",
    "        X.append(arr)\n",
    "        Y.append(label)\n",
    "    return X, Y"
   ]
  },
  {
   "cell_type": "code",
   "execution_count": 3,
   "metadata": {},
   "outputs": [],
   "source": [
    "X_0, Y_0 = load_dataset(\"data/0\", 0)\n",
    "X_1, Y_1 = load_dataset(\"data/1\", 1)"
   ]
  },
  {
   "cell_type": "code",
   "execution_count": 4,
   "metadata": {},
   "outputs": [],
   "source": [
    "train_rate = 0.5\n",
    "train_X_0 = X_0[0:int(len(X_0)*train_rate)]\n",
    "train_X_1 = X_1[0:int(len(X_1)*train_rate)]\n",
    "train_Y_0 = Y_0[0:int(len(Y_0)*train_rate)]\n",
    "train_Y_1 = Y_1[0:int(len(Y_1)*train_rate)]\n",
    "\n",
    "test_X_0 = X_0[int(len(X_0)*train_rate):]\n",
    "test_X_1 = X_1[int(len(X_1)*train_rate):]\n",
    "test_Y_0 = Y_0[int(len(Y_0)*train_rate):]\n",
    "test_Y_1 = Y_1[int(len(Y_1)*train_rate):]\n",
    "\n",
    "train_X = numpy.r_[train_X_0, train_X_1]\n",
    "train_Y = numpy.r_[train_Y_0, train_Y_1]\n",
    "test_X = numpy.r_[test_X_0, test_X_1]\n",
    "test_Y = numpy.r_[test_Y_0, test_Y_1]"
   ]
  },
  {
   "cell_type": "code",
   "execution_count": 5,
   "metadata": {},
   "outputs": [
    {
     "data": {
      "text/plain": [
       "array([0, 0])"
      ]
     },
     "execution_count": 5,
     "metadata": {},
     "output_type": "execute_result"
    }
   ],
   "source": [
    "train_Y[0:2]"
   ]
  },
  {
   "cell_type": "code",
   "execution_count": 6,
   "metadata": {
    "scrolled": true
   },
   "outputs": [
    {
     "data": {
      "text/plain": [
       "array([[[3, 0, 0, ..., 0, 0, 0],\n",
       "        [0, 0, 0, ..., 0, 0, 0],\n",
       "        [0, 0, 2, ..., 0, 0, 0],\n",
       "        ...,\n",
       "        [0, 0, 0, ..., 0, 0, 0],\n",
       "        [0, 0, 0, ..., 0, 0, 0],\n",
       "        [0, 0, 0, ..., 0, 0, 0]],\n",
       "\n",
       "       [[0, 0, 0, ..., 0, 0, 0],\n",
       "        [0, 0, 0, ..., 0, 0, 0],\n",
       "        [0, 0, 0, ..., 0, 0, 0],\n",
       "        ...,\n",
       "        [0, 0, 0, ..., 0, 0, 0],\n",
       "        [0, 0, 0, ..., 0, 0, 0],\n",
       "        [0, 0, 0, ..., 0, 0, 0]]], dtype=uint8)"
      ]
     },
     "execution_count": 6,
     "metadata": {},
     "output_type": "execute_result"
    }
   ],
   "source": [
    "train_X[0:2]"
   ]
  },
  {
   "cell_type": "code",
   "execution_count": 7,
   "metadata": {},
   "outputs": [],
   "source": [
    "model = autokeras.ImageClassifier()"
   ]
  },
  {
   "cell_type": "code",
   "execution_count": 8,
   "metadata": {},
   "outputs": [
    {
     "name": "stdout",
     "output_type": "stream",
     "text": [
      "923 923\n",
      "(923, 28, 28)\n",
      "(923,)\n"
     ]
    }
   ],
   "source": [
    "print(len(train_X), len(train_Y))\n",
    "print(train_X.shape)\n",
    "print(train_Y.shape)"
   ]
  },
  {
   "cell_type": "code",
   "execution_count": 9,
   "metadata": {
    "scrolled": true
   },
   "outputs": [],
   "source": [
    "model.fit(train_X, train_Y, time_limit=0.2*60*60)"
   ]
  },
  {
   "cell_type": "code",
   "execution_count": 10,
   "metadata": {},
   "outputs": [
    {
     "data": {
      "text/plain": [
       "[{'model_id': 0,\n",
       "  'loss': 0.046143538504838946,\n",
       "  'metric_value': 0.9868421052631579},\n",
       " {'model_id': 1,\n",
       "  'loss': 0.022441903222352268,\n",
       "  'metric_value': 0.9894736842105264},\n",
       " {'model_id': 2,\n",
       "  'loss': 0.014146993681788445,\n",
       "  'metric_value': 0.9868421052631579},\n",
       " {'model_id': 3,\n",
       "  'loss': 0.07062014322727919,\n",
       "  'metric_value': 0.9894736842105264}]"
      ]
     },
     "execution_count": 10,
     "metadata": {},
     "output_type": "execute_result"
    }
   ],
   "source": [
    "model.cnn.searcher.history"
   ]
  },
  {
   "cell_type": "code",
   "execution_count": 11,
   "metadata": {
    "scrolled": true
   },
   "outputs": [
    {
     "data": {
      "text/plain": [
       "TorchModel(\n",
       "  (0): Conv1d(28, 64, kernel_size=(3,), stride=(1,), padding=(1,))\n",
       "  (1): BatchNorm1d(64, eps=1e-05, momentum=0.1, affine=True, track_running_stats=True)\n",
       "  (2): BatchNorm1d(64, eps=1e-05, momentum=0.1, affine=True, track_running_stats=True)\n",
       "  (3): ReLU()\n",
       "  (4): Conv1d(64, 64, kernel_size=(3,), stride=(1,), padding=(1,))\n",
       "  (5): BatchNorm1d(64, eps=1e-05, momentum=0.1, affine=True, track_running_stats=True)\n",
       "  (6): ReLU()\n",
       "  (7): Conv1d(64, 64, kernel_size=(3,), stride=(1,), padding=(1,))\n",
       "  (8): ReLU()\n",
       "  (9): Conv1d(64, 64, kernel_size=(1,), stride=(1,))\n",
       "  (10): TorchAdd()\n",
       "  (11): BatchNorm1d(64, eps=1e-05, momentum=0.1, affine=True, track_running_stats=True)\n",
       "  (12): ReLU()\n",
       "  (13): Conv1d(64, 64, kernel_size=(3,), stride=(1,), padding=(1,))\n",
       "  (14): BatchNorm1d(64, eps=1e-05, momentum=0.1, affine=True, track_running_stats=True)\n",
       "  (15): ReLU()\n",
       "  (16): Conv1d(64, 64, kernel_size=(3,), stride=(1,), padding=(1,))\n",
       "  (17): ReLU()\n",
       "  (18): Conv1d(64, 64, kernel_size=(1,), stride=(1,))\n",
       "  (19): TorchAdd()\n",
       "  (20): BatchNorm1d(64, eps=1e-05, momentum=0.1, affine=True, track_running_stats=True)\n",
       "  (21): ReLU()\n",
       "  (22): Conv1d(64, 128, kernel_size=(3,), stride=(2,), padding=(1,))\n",
       "  (23): BatchNorm1d(128, eps=1e-05, momentum=0.1, affine=True, track_running_stats=True)\n",
       "  (24): ReLU()\n",
       "  (25): Conv1d(128, 128, kernel_size=(3,), stride=(1,), padding=(1,))\n",
       "  (26): ReLU()\n",
       "  (27): Conv1d(64, 128, kernel_size=(1,), stride=(2,))\n",
       "  (28): TorchAdd()\n",
       "  (29): BatchNorm1d(128, eps=1e-05, momentum=0.1, affine=True, track_running_stats=True)\n",
       "  (30): ReLU()\n",
       "  (31): Conv1d(128, 128, kernel_size=(3,), stride=(1,), padding=(1,))\n",
       "  (32): BatchNorm1d(128, eps=1e-05, momentum=0.1, affine=True, track_running_stats=True)\n",
       "  (33): ReLU()\n",
       "  (34): Conv1d(128, 128, kernel_size=(3,), stride=(1,), padding=(1,))\n",
       "  (35): ReLU()\n",
       "  (36): Conv1d(128, 128, kernel_size=(1,), stride=(1,))\n",
       "  (37): TorchAdd()\n",
       "  (38): BatchNorm1d(128, eps=1e-05, momentum=0.1, affine=True, track_running_stats=True)\n",
       "  (39): ReLU()\n",
       "  (40): Conv1d(128, 256, kernel_size=(3,), stride=(2,), padding=(1,))\n",
       "  (41): BatchNorm1d(256, eps=1e-05, momentum=0.1, affine=True, track_running_stats=True)\n",
       "  (42): ReLU()\n",
       "  (43): Conv1d(256, 256, kernel_size=(3,), stride=(1,), padding=(1,))\n",
       "  (44): ReLU()\n",
       "  (45): Conv1d(128, 256, kernel_size=(1,), stride=(2,))\n",
       "  (46): TorchAdd()\n",
       "  (47): BatchNorm1d(256, eps=1e-05, momentum=0.1, affine=True, track_running_stats=True)\n",
       "  (48): ReLU()\n",
       "  (49): Conv1d(256, 256, kernel_size=(3,), stride=(1,), padding=(1,))\n",
       "  (50): BatchNorm1d(256, eps=1e-05, momentum=0.1, affine=True, track_running_stats=True)\n",
       "  (51): ReLU()\n",
       "  (52): Conv1d(256, 256, kernel_size=(3,), stride=(1,), padding=(1,))\n",
       "  (53): ReLU()\n",
       "  (54): Conv1d(256, 256, kernel_size=(1,), stride=(1,))\n",
       "  (55): TorchAdd()\n",
       "  (56): BatchNorm1d(256, eps=1e-05, momentum=0.1, affine=True, track_running_stats=True)\n",
       "  (57): ReLU()\n",
       "  (58): Conv1d(256, 512, kernel_size=(3,), stride=(2,), padding=(1,))\n",
       "  (59): BatchNorm1d(512, eps=1e-05, momentum=0.1, affine=True, track_running_stats=True)\n",
       "  (60): ReLU()\n",
       "  (61): Conv1d(512, 512, kernel_size=(3,), stride=(1,), padding=(1,))\n",
       "  (62): ReLU()\n",
       "  (63): Conv1d(256, 512, kernel_size=(1,), stride=(2,))\n",
       "  (64): TorchAdd()\n",
       "  (65): BatchNorm1d(512, eps=1e-05, momentum=0.1, affine=True, track_running_stats=True)\n",
       "  (66): ReLU()\n",
       "  (67): Conv1d(512, 512, kernel_size=(3,), stride=(1,), padding=(1,))\n",
       "  (68): BatchNorm1d(512, eps=1e-05, momentum=0.1, affine=True, track_running_stats=True)\n",
       "  (69): ReLU()\n",
       "  (70): Conv1d(512, 512, kernel_size=(3,), stride=(1,), padding=(1,))\n",
       "  (71): ReLU()\n",
       "  (72): Conv1d(512, 512, kernel_size=(1,), stride=(1,))\n",
       "  (73): TorchAdd()\n",
       "  (74): GlobalAvgPool1d()\n",
       "  (75): Linear(in_features=512, out_features=2, bias=True)\n",
       ")"
      ]
     },
     "execution_count": 11,
     "metadata": {},
     "output_type": "execute_result"
    }
   ],
   "source": [
    "model.cnn.best_model.produce_model()"
   ]
  },
  {
   "cell_type": "code",
   "execution_count": 12,
   "metadata": {
    "scrolled": true
   },
   "outputs": [],
   "source": [
    "model.final_fit(\n",
    "    train_X,\n",
    "    train_Y,\n",
    "    train_X,\n",
    "    train_Y,\n",
    "    retrain=False)"
   ]
  },
  {
   "cell_type": "code",
   "execution_count": 13,
   "metadata": {
    "scrolled": true
   },
   "outputs": [
    {
     "data": {
      "text/plain": [
       "array([0, 0, 0])"
      ]
     },
     "execution_count": 13,
     "metadata": {},
     "output_type": "execute_result"
    }
   ],
   "source": [
    "model.predict(test_X[0:3])"
   ]
  },
  {
   "cell_type": "code",
   "execution_count": 14,
   "metadata": {
    "scrolled": true
   },
   "outputs": [],
   "source": [
    "# save\n",
    "path = \"model.hdf5\"\n",
    "model.export_autokeras_model(path)"
   ]
  },
  {
   "cell_type": "code",
   "execution_count": 15,
   "metadata": {},
   "outputs": [],
   "source": [
    "output_model = autokeras.utils.pickle_from_file(path)"
   ]
  },
  {
   "cell_type": "code",
   "execution_count": 16,
   "metadata": {
    "scrolled": true
   },
   "outputs": [],
   "source": [
    "vec_train_X = output_model.predict(train_X, output_index=-2)\n",
    "vec_test_X = output_model.predict(test_X, output_index=-2)"
   ]
  },
  {
   "cell_type": "code",
   "execution_count": 17,
   "metadata": {
    "scrolled": true
   },
   "outputs": [
    {
     "data": {
      "text/html": [
       "<div>\n",
       "<style scoped>\n",
       "    .dataframe tbody tr th:only-of-type {\n",
       "        vertical-align: middle;\n",
       "    }\n",
       "\n",
       "    .dataframe tbody tr th {\n",
       "        vertical-align: top;\n",
       "    }\n",
       "\n",
       "    .dataframe thead th {\n",
       "        text-align: right;\n",
       "    }\n",
       "</style>\n",
       "<table border=\"1\" class=\"dataframe\">\n",
       "  <thead>\n",
       "    <tr style=\"text-align: right;\">\n",
       "      <th></th>\n",
       "      <th>0</th>\n",
       "      <th>1</th>\n",
       "      <th>2</th>\n",
       "      <th>3</th>\n",
       "      <th>4</th>\n",
       "      <th>5</th>\n",
       "      <th>6</th>\n",
       "      <th>7</th>\n",
       "      <th>8</th>\n",
       "      <th>9</th>\n",
       "      <th>...</th>\n",
       "      <th>502</th>\n",
       "      <th>503</th>\n",
       "      <th>504</th>\n",
       "      <th>505</th>\n",
       "      <th>506</th>\n",
       "      <th>507</th>\n",
       "      <th>508</th>\n",
       "      <th>509</th>\n",
       "      <th>510</th>\n",
       "      <th>511</th>\n",
       "    </tr>\n",
       "  </thead>\n",
       "  <tbody>\n",
       "    <tr>\n",
       "      <th>0</th>\n",
       "      <td>0.587567</td>\n",
       "      <td>-0.149599</td>\n",
       "      <td>-0.062462</td>\n",
       "      <td>-1.012283</td>\n",
       "      <td>0.222322</td>\n",
       "      <td>0.355869</td>\n",
       "      <td>0.004161</td>\n",
       "      <td>0.653720</td>\n",
       "      <td>0.054240</td>\n",
       "      <td>-0.442793</td>\n",
       "      <td>...</td>\n",
       "      <td>-0.643198</td>\n",
       "      <td>-0.513914</td>\n",
       "      <td>0.262298</td>\n",
       "      <td>0.365572</td>\n",
       "      <td>0.973723</td>\n",
       "      <td>0.919899</td>\n",
       "      <td>0.527722</td>\n",
       "      <td>-0.784579</td>\n",
       "      <td>-0.612002</td>\n",
       "      <td>0.797502</td>\n",
       "    </tr>\n",
       "    <tr>\n",
       "      <th>1</th>\n",
       "      <td>0.736495</td>\n",
       "      <td>-0.061645</td>\n",
       "      <td>0.133231</td>\n",
       "      <td>-0.856721</td>\n",
       "      <td>0.276225</td>\n",
       "      <td>0.066109</td>\n",
       "      <td>0.037032</td>\n",
       "      <td>0.401691</td>\n",
       "      <td>0.047063</td>\n",
       "      <td>-0.146201</td>\n",
       "      <td>...</td>\n",
       "      <td>-0.640683</td>\n",
       "      <td>-0.389744</td>\n",
       "      <td>0.176339</td>\n",
       "      <td>0.244515</td>\n",
       "      <td>0.723510</td>\n",
       "      <td>0.661996</td>\n",
       "      <td>0.333194</td>\n",
       "      <td>-0.270008</td>\n",
       "      <td>-0.636558</td>\n",
       "      <td>0.495856</td>\n",
       "    </tr>\n",
       "  </tbody>\n",
       "</table>\n",
       "<p>2 rows × 512 columns</p>\n",
       "</div>"
      ],
      "text/plain": [
       "        0         1         2         3         4         5         6    \\\n",
       "0  0.587567 -0.149599 -0.062462 -1.012283  0.222322  0.355869  0.004161   \n",
       "1  0.736495 -0.061645  0.133231 -0.856721  0.276225  0.066109  0.037032   \n",
       "\n",
       "        7         8         9      ...          502       503       504  \\\n",
       "0  0.653720  0.054240 -0.442793    ...    -0.643198 -0.513914  0.262298   \n",
       "1  0.401691  0.047063 -0.146201    ...    -0.640683 -0.389744  0.176339   \n",
       "\n",
       "        505       506       507       508       509       510       511  \n",
       "0  0.365572  0.973723  0.919899  0.527722 -0.784579 -0.612002  0.797502  \n",
       "1  0.244515  0.723510  0.661996  0.333194 -0.270008 -0.636558  0.495856  \n",
       "\n",
       "[2 rows x 512 columns]"
      ]
     },
     "execution_count": 17,
     "metadata": {},
     "output_type": "execute_result"
    }
   ],
   "source": [
    "pandas.DataFrame(vec_train_X).head(2)"
   ]
  },
  {
   "cell_type": "code",
   "execution_count": 18,
   "metadata": {},
   "outputs": [],
   "source": [
    "from sklearn.linear_model import LogisticRegression"
   ]
  },
  {
   "cell_type": "code",
   "execution_count": 19,
   "metadata": {},
   "outputs": [],
   "source": [
    "lr = LogisticRegression(solver=\"lbfgs\")"
   ]
  },
  {
   "cell_type": "code",
   "execution_count": 20,
   "metadata": {},
   "outputs": [
    {
     "data": {
      "text/plain": [
       "LogisticRegression(C=1.0, class_weight=None, dual=False, fit_intercept=True,\n",
       "          intercept_scaling=1, max_iter=100, multi_class='warn',\n",
       "          n_jobs=None, penalty='l2', random_state=None, solver='lbfgs',\n",
       "          tol=0.0001, verbose=0, warm_start=False)"
      ]
     },
     "execution_count": 20,
     "metadata": {},
     "output_type": "execute_result"
    }
   ],
   "source": [
    "lr.fit(vec_test_X, test_Y)"
   ]
  },
  {
   "cell_type": "code",
   "execution_count": 21,
   "metadata": {},
   "outputs": [
    {
     "data": {
      "text/plain": [
       "0.9978378378378379"
      ]
     },
     "execution_count": 21,
     "metadata": {},
     "output_type": "execute_result"
    }
   ],
   "source": [
    "lr.score(vec_test_X, test_Y)"
   ]
  },
  {
   "cell_type": "code",
   "execution_count": null,
   "metadata": {},
   "outputs": [],
   "source": []
  }
 ],
 "metadata": {
  "kernelspec": {
   "display_name": "Python 3",
   "language": "python",
   "name": "python3"
  },
  "language_info": {
   "codemirror_mode": {
    "name": "ipython",
    "version": 3
   },
   "file_extension": ".py",
   "mimetype": "text/x-python",
   "name": "python",
   "nbconvert_exporter": "python",
   "pygments_lexer": "ipython3",
   "version": "3.6.7"
  }
 },
 "nbformat": 4,
 "nbformat_minor": 2
}
